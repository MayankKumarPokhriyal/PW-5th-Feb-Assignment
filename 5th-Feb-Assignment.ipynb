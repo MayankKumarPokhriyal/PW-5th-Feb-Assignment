{
 "cells": [
  {
   "cell_type": "markdown",
   "id": "adf7dba1",
   "metadata": {},
   "source": [
    "Q1. Explain Class and Object with respect to Object-Oriented Programming. Give a suitable example."
   ]
  },
  {
   "cell_type": "raw",
   "id": "94748628",
   "metadata": {},
   "source": [
    "Class is a blueprint or template for creating objects in Object-Oriented Programming (OOP). It defines the properties (data members) and behaviors (methods) of the objects that will be created from the class.\n",
    "\n",
    "An object is an instance of a class, created at runtime. Objects are variables of the class type and contain the actual data. Objects can access the properties and behaviors defined in their class.\n",
    "\n",
    "Example: Consider a class called \"Bike\" which has properties such as make, model, and year, and behaviors such as start, stop, and accelerate. Each bike object created from the bike class would have its own unique make, model, and year, but would share the same behaviors defined in the bike class."
   ]
  },
  {
   "cell_type": "code",
   "execution_count": 1,
   "id": "17faed49",
   "metadata": {},
   "outputs": [
    {
     "name": "stdout",
     "output_type": "stream",
     "text": [
      "Royal Enfield\n",
      "Bullet Classic\n",
      "2022\n",
      "Bike started\n",
      "Bike accelerated\n",
      "Bike stopped\n"
     ]
    }
   ],
   "source": [
    "class Bike:\n",
    "    def __init__(self, make, model, year):\n",
    "        self.make = make\n",
    "        self.model = model\n",
    "        self.year = year\n",
    "\n",
    "    def start(self):\n",
    "        print(\"Bike started\")\n",
    "\n",
    "    def stop(self):\n",
    "        print(\"Bike stopped\")\n",
    "\n",
    "    def accelerate(self):\n",
    "        print(\"Bike accelerated\")\n",
    "\n",
    "        \n",
    "my_bike = Bike(\"Royal Enfield\", \"Bullet Classic\", 2022)\n",
    "\n",
    "print(my_bike.make)\n",
    "print(my_bike.model)\n",
    "print(my_bike.year)\n",
    "\n",
    "my_bike.start()\n",
    "my_bike.accelerate()\n",
    "my_bike.stop()"
   ]
  },
  {
   "cell_type": "markdown",
   "id": "a769b549",
   "metadata": {},
   "source": [
    "Q2. Name the four pillars of OOPs."
   ]
  },
  {
   "cell_type": "raw",
   "id": "2e34a24c",
   "metadata": {},
   "source": [
    "Abstraction\n",
    "Encapsulation\n",
    "Inheritance\n",
    "Polymorphism"
   ]
  },
  {
   "cell_type": "markdown",
   "id": "bd81ff5e",
   "metadata": {},
   "source": [
    "Q3. Explain why the _ _ init _ _() function is used. Give a suitable example."
   ]
  },
  {
   "cell_type": "raw",
   "id": "49b10c41",
   "metadata": {},
   "source": [
    "The __init__() function is a special method in Python classes, and is used as a constructor for the class. It is executed automatically when an object of the class is created, and its purpose is to initialize the attributes of the class."
   ]
  },
  {
   "cell_type": "code",
   "execution_count": 2,
   "id": "18d6f62c",
   "metadata": {},
   "outputs": [
    {
     "name": "stdout",
     "output_type": "stream",
     "text": [
      "Royal Enfield\n",
      "Bullet Classic\n",
      "2022\n"
     ]
    }
   ],
   "source": [
    "#Example\n",
    "\n",
    "class Bike:\n",
    "    def __init__(self, make, model, year):\n",
    "        self.make = make\n",
    "        self.model = model\n",
    "        self.year = year\n",
    "        \n",
    "my_bike = Bike(\"Royal Enfield\", \"Bullet Classic\", 2022)\n",
    "\n",
    "print(my_bike.make)\n",
    "print(my_bike.model)\n",
    "print(my_bike.year)"
   ]
  },
  {
   "cell_type": "raw",
   "id": "5ecd206f",
   "metadata": {},
   "source": [
    "In this example, the __init__() method takes three arguments - make, model, and year - and assigns them to the corresponding attributes of the Bike class. When an object my_bike is created using Bike(\"Royal Enfield\", \"Bullet Classic\",2020), the __init__() method is called automatically, initializing the make, model, and year attributes."
   ]
  },
  {
   "cell_type": "markdown",
   "id": "d2fb8055",
   "metadata": {},
   "source": [
    "Q4. Why self is used in OOPs?"
   ]
  },
  {
   "cell_type": "raw",
   "id": "4dfbf572",
   "metadata": {},
   "source": [
    "In Object-Oriented Programming (OOP), self is a reference to the instance of the object that is calling the method. It is used as the first argument in the method definition and it is used to access the attributes and methods of the class.\n",
    "\n",
    "The self keyword allows each instance of a class to have its own separate and distinct state, meaning that each object created from the class can have its own set of attributes and methods with different values."
   ]
  },
  {
   "cell_type": "markdown",
   "id": "0e1d256e",
   "metadata": {},
   "source": [
    "Q5. What is inheritance? Give an example for each type of inheritance."
   ]
  },
  {
   "cell_type": "raw",
   "id": "aa75e961",
   "metadata": {},
   "source": [
    "Inheritance is a mechanism in Object-Oriented Programming (OOP) that allows a new class to inherit properties and methods from an existing class. The existing class is called the parent class or base class, and the new class is called the child class or derived class. Inheritance allows for code reusability and makes it easier to create and maintain the code.\n",
    "\n",
    "Types of Inheritance depend upon the number of child and parent classes involved. There are four types of inheritance in Python:\n",
    "\n",
    "1.SINGLE INHERITANCE:\n",
    "Single inheritance enables a derived class to inherit properties from a single parent class, thus enabling code reusability and the addition of new features to existing code.\n",
    "\n",
    "2.MULTIPLE INHERITANCE:\n",
    "When a class can be derived from more than one base class this type of inheritance is called multiple inheritances. In multiple inheritances, all the features of the base classes are inherited into the derived class.\n",
    "\n",
    "3.MULTILEVEL INHERITANCE :\n",
    "In multilevel inheritance, features of the base class and the derived class are further inherited into the new derived class. This is similar to a relationship representing a child and a grandfather.\n",
    "\n",
    "4.HIERARCHICAL INHERITANCE:\n",
    "When more than one derived class are created from a single base this type of inheritance is called hierarchical inheritance. In this program, we have a parent (base) class and two child (derived) classes.\n",
    "\n",
    "5.HYBRID INHERITANCE:\n",
    "Inheritance consisting of multiple types of inheritance is called hybrid inheritance.\n"
   ]
  },
  {
   "cell_type": "code",
   "execution_count": 5,
   "id": "64cee094",
   "metadata": {},
   "outputs": [
    {
     "name": "stdout",
     "output_type": "stream",
     "text": [
      "This function is in parent class.\n",
      "This function is in child class.\n"
     ]
    }
   ],
   "source": [
    "# Python program to demonstrate\n",
    "# single inheritance\n",
    " \n",
    "# Base class\n",
    "class Parent:\n",
    "    def func1(self):\n",
    "        print(\"This function is in parent class.\")\n",
    "\n",
    "        \n",
    "#Derived class\n",
    "class Child(Parent):\n",
    "    def func2(self):\n",
    "        print(\"This function is in child class.\")\n",
    " \n",
    " \n",
    "# Driver's code\n",
    "object = Child()\n",
    "object.func1()\n",
    "object.func2()"
   ]
  },
  {
   "cell_type": "code",
   "execution_count": 12,
   "id": "a2f29703",
   "metadata": {},
   "outputs": [
    {
     "name": "stdout",
     "output_type": "stream",
     "text": [
      "Father : RAM\n",
      "Mother : SITA\n"
     ]
    }
   ],
   "source": [
    "# Python program to demonstrate\n",
    "# multiple inheritance\n",
    " \n",
    "# Base class1\n",
    "class Mother:\n",
    "    mothername = \"\"\n",
    " \n",
    "    def mother(self):\n",
    "        print(self.mothername)\n",
    "\n",
    "        \n",
    "# Base class2\n",
    "class Father:\n",
    "    fathername = \"\"\n",
    " \n",
    "    def father(self):\n",
    "        print(self.fathername)\n",
    "\n",
    "        \n",
    "# Derived class\n",
    "class Son(Mother, Father):\n",
    "    def parents(self):\n",
    "        print(\"Father :\", self.fathername)\n",
    "        print(\"Mother :\", self.mothername)\n",
    " \n",
    " \n",
    "# Driver's code\n",
    "s1 = Son()\n",
    "s1.fathername = \"RAM\"\n",
    "s1.mothername = \"SITA\"\n",
    "s1.parents()"
   ]
  },
  {
   "cell_type": "code",
   "execution_count": 14,
   "id": "f92b58e9",
   "metadata": {},
   "outputs": [
    {
     "name": "stdout",
     "output_type": "stream",
     "text": [
      "anthony\n",
      "Grandfather name : anthony\n",
      "Father name : akbar\n",
      "Son name : amar\n"
     ]
    }
   ],
   "source": [
    "# Python program to demonstrate\n",
    "# multilevel inheritance\n",
    " \n",
    "# Base class\n",
    " \n",
    "class Grandfather:\n",
    " \n",
    "    def __init__(self, grandfathername):\n",
    "        self.grandfathername = grandfathername\n",
    "\n",
    "        \n",
    "# Intermediate class\n",
    "class Father(Grandfather):\n",
    "    def __init__(self, fathername, grandfathername):\n",
    "        self.fathername = fathername\n",
    " \n",
    "        # invoking constructor of Grandfather class\n",
    "        Grandfather.__init__(self, grandfathername)\n",
    "\n",
    "# Derived class\n",
    "class Son(Father):\n",
    "    def __init__(self, sonname, fathername, grandfathername):\n",
    "        self.sonname = sonname\n",
    " \n",
    "        # invoking constructor of Father class\n",
    "        Father.__init__(self, fathername, grandfathername)\n",
    " \n",
    "    def print_name(self):\n",
    "        print('Grandfather name :', self.grandfathername)\n",
    "        print(\"Father name :\", self.fathername)\n",
    "        print(\"Son name :\", self.sonname)\n",
    " \n",
    " \n",
    "#  Driver code\n",
    "s1 = Son('amar', 'akbar', 'anthony')\n",
    "print(s1.grandfathername)\n",
    "s1.print_name()"
   ]
  },
  {
   "cell_type": "code",
   "execution_count": 15,
   "id": "2d133106",
   "metadata": {},
   "outputs": [
    {
     "name": "stdout",
     "output_type": "stream",
     "text": [
      "This function is in parent class.\n",
      "This function is in child 1.\n",
      "This function is in parent class.\n",
      "This function is in child 2.\n"
     ]
    }
   ],
   "source": [
    "# Python program to demonstrate\n",
    "# Hierarchical inheritance\n",
    " \n",
    "    \n",
    "# Base class\n",
    "class Parent:\n",
    "    def func1(self):\n",
    "        print(\"This function is in parent class.\")\n",
    "\n",
    "        \n",
    "# Derived class1\n",
    " \n",
    "class Child1(Parent):\n",
    "    def func2(self):\n",
    "        print(\"This function is in child 1.\")\n",
    "\n",
    "        \n",
    "# Derivied class2\n",
    " \n",
    "class Child2(Parent):\n",
    "    def func3(self):\n",
    "        print(\"This function is in child 2.\")\n",
    " \n",
    " \n",
    "# Driver's code\n",
    "object1 = Child1()\n",
    "object2 = Child2()\n",
    "object1.func1()\n",
    "object1.func2()\n",
    "object2.func1()\n",
    "object2.func3()"
   ]
  },
  {
   "cell_type": "code",
   "execution_count": 16,
   "id": "d78e69ec",
   "metadata": {},
   "outputs": [
    {
     "name": "stdout",
     "output_type": "stream",
     "text": [
      "This function is in school.\n",
      "This function is in student 1. \n"
     ]
    }
   ],
   "source": [
    "class School:\n",
    "    def func1(self):\n",
    "        print(\"This function is in school.\")\n",
    " \n",
    " \n",
    "class Student1(School):\n",
    "    def func2(self):\n",
    "        print(\"This function is in student 1. \")\n",
    " \n",
    " \n",
    "class Student2(School):\n",
    "    def func3(self):\n",
    "        print(\"This function is in student 2.\")\n",
    " \n",
    " \n",
    "class Student3(Student1, School):\n",
    "    def func4(self):\n",
    "        print(\"This function is in student 3.\")\n",
    " \n",
    " \n",
    "# Driver's code\n",
    "object = Student3()\n",
    "object.func1()\n",
    "object.func2()"
   ]
  },
  {
   "cell_type": "code",
   "execution_count": null,
   "id": "ccde93b0",
   "metadata": {},
   "outputs": [],
   "source": []
  }
 ],
 "metadata": {
  "kernelspec": {
   "display_name": "Python 3 (ipykernel)",
   "language": "python",
   "name": "python3"
  },
  "language_info": {
   "codemirror_mode": {
    "name": "ipython",
    "version": 3
   },
   "file_extension": ".py",
   "mimetype": "text/x-python",
   "name": "python",
   "nbconvert_exporter": "python",
   "pygments_lexer": "ipython3",
   "version": "3.9.13"
  }
 },
 "nbformat": 4,
 "nbformat_minor": 5
}
